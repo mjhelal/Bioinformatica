{
 "cells": [
  {
   "cell_type": "markdown",
   "metadata": {},
   "source": [
    "# Ejercicio 1"
   ]
  },
  {
   "cell_type": "markdown",
   "metadata": {},
   "source": [
    "Implementar en el lenguaje PHYTON un programa de alineamiento pareado global utilizando el algoritmo de Needleman-Wunsch basado en programacion dinámica. <br/><br/>\n",
    "\n",
    "El programa tomará como entrada un archivo con dos secuencias aminoacídicas en formato FASTA y una matriz de score a elección y devolverá como salida un archivo con las dos secuencias alineadas, asícomo el score del alineamiento. Se utiliza un esquema de gaps lineal.<br/>\n",
    "<br/>\n",
    "<b>Importante:</b><br/>\n",
    "No se permiten el uso de bibliotecas espec\u0013\u0010\f",
    "cas para alinear secuencias.\n",
    "El resultado debe ser compilable en python3.x en adelante y debe correr en\n",
    "Linux o en Mac (NO Windows).\n",
    "<br/>\n",
    "<br/>\n",
    "<b>Links de interés:</b><br/>\n",
    "https://zhanglab.ccmb.med.umich.edu/FASTA/"
   ]
  },
  {
   "cell_type": "code",
   "execution_count": null,
   "metadata": {},
   "outputs": [],
   "source": []
  }
 ],
 "metadata": {
  "kernelspec": {
   "display_name": "Python 3",
   "language": "python",
   "name": "python3"
  },
  "language_info": {
   "codemirror_mode": {
    "name": "ipython",
    "version": 3
   },
   "file_extension": ".py",
   "mimetype": "text/x-python",
   "name": "python",
   "nbconvert_exporter": "python",
   "pygments_lexer": "ipython3",
   "version": "3.8.3"
  }
 },
 "nbformat": 4,
 "nbformat_minor": 4
}
