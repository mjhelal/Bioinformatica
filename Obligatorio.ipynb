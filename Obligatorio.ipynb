{
 "cells": [
  {
   "cell_type": "markdown",
   "metadata": {},
   "source": [
    "# Ejercicio 1"
   ]
  },
  {
   "cell_type": "markdown",
   "metadata": {},
   "source": [
    "Implementar en el lenguaje PHYTON un programa de alineamiento pareado global utilizando el algoritmo de Needleman-Wunsch basado en programacion dinámica. <br/><br/>\n",
    "\n",
    "El programa tomará como entrada un archivo con dos secuencias aminoacídicas en formato FASTA y una matriz de score a elección y devolverá como salida un archivo con las dos secuencias alineadas, asícomo el score del alineamiento. Se utiliza un esquema de gaps lineal.<br/>\n",
    "<br/>\n",
    "<b>Importante:</b><br/>\n",
    "No se permiten el uso de bibliotecas espec\u0013\u0010\f",
    "cas para alinear secuencias.\n",
    "El resultado debe ser compilable en python3.x en adelante y debe correr en\n",
    "Linux o en Mac (NO Windows).\n",
    "<br/>\n",
    "<br/>\n",
    "<b>Links de interés:</b><br/>\n",
    "https://zhanglab.ccmb.med.umich.edu/FASTA/"
   ]
  },
  {
   "cell_type": "markdown",
   "metadata": {},
   "source": [
    "### 1.1 Leer las cadenas en formato FASTA"
   ]
  },
  {
   "cell_type": "code",
   "execution_count": 2,
   "metadata": {},
   "outputs": [
    {
     "name": "stdout",
     "output_type": "stream",
     "text": [
      "['A', 'T', 'C', 'C', 'C', 'A']\n",
      "{0: 'A', 1: 'T', 2: 'C', 3: 'C', 4: 'C', 5: 'A'}\n",
      "\n",
      "['C', 'T', 'T', 'C', 'T', 'T', 'G']\n",
      "{0: 'C', 1: 'T', 2: 'T', 3: 'C', 4: 'T', 5: 'T', 6: 'G'}\n"
     ]
    }
   ],
   "source": [
    "txt=open('FASTA0.txt', 'r').read()\n",
    "genes=txt.split('>')[1:]\n",
    "\n",
    "seqdic={}\n",
    "for gene in genes:\n",
    "    gene=gene.strip().split('\\n')\n",
    "    seqdic['>'+gene[0]]=''.join(gene[1:])\n",
    "\n",
    "#print(list(seqdic.keys())[0])     #-> key of \"first\" element\n",
    "X = list(list(seqdic.values())[0])\n",
    "Y = list(list(seqdic.values())[1])\n",
    "codX = dict(zip(list(range(len(X))),X))\n",
    "codY = dict(zip(list(range(len(Y))),Y))\n",
    "print(X)\n",
    "print(codX)\n",
    "print()\n",
    "print(Y)\n",
    "print(codY)\n",
    "\n",
    "\n",
    "#print(seq1)   #-> value of \"first\" element"
   ]
  },
  {
   "cell_type": "markdown",
   "metadata": {},
   "source": [
    "### 1.2 Generar Scoring Matrix"
   ]
  },
  {
   "cell_type": "code",
   "execution_count": 3,
   "metadata": {},
   "outputs": [],
   "source": [
    "import numpy as np"
   ]
  },
  {
   "cell_type": "code",
   "execution_count": 56,
   "metadata": {
    "scrolled": true
   },
   "outputs": [],
   "source": [
    "S = np.zeros((20,21))\n",
    "for i in range(20):\n",
    "    for j in range(20):\n",
    "        if i == j:\n",
    "            S[i][j] = np.random.randint(1,9)\n",
    "        elif i < j:\n",
    "            S[i][j] = np.random.randint(-9,0)\n",
    "for i in range(20):\n",
    "    S[i][20] = np.random.randint(-1,0)\n",
    "#print(S)"
   ]
  },
  {
   "cell_type": "markdown",
   "metadata": {},
   "source": [
    "### 1.3 Codificacion de aminoacidos"
   ]
  },
  {
   "cell_type": "code",
   "execution_count": 57,
   "metadata": {
    "scrolled": true
   },
   "outputs": [
    {
     "name": "stdout",
     "output_type": "stream",
     "text": [
      "{'A': 0, 'R': 1, 'N': 2, 'D': 3, 'C': 4, 'E': 5, 'Q': 6, 'G': 7, 'H': 8, 'I': 9, 'L': 10, 'K': 11, 'M': 12, 'F': 13, 'P': 14, 'S': 15, 'T': 16, 'W': 17, 'Y': 18, 'V': 19, '-': 20}\n"
     ]
    }
   ],
   "source": [
    "\n",
    "aminocodes = ['A','R','N','D','C','E','Q','G','H','I','L','K','M','F','P','S','T','W','Y','V','-']\n",
    "codS = dict(zip(aminocodes,list(range(21))))\n",
    "print(codS)"
   ]
  },
  {
   "cell_type": "markdown",
   "metadata": {},
   "source": [
    "### 1.3 Needleman - Wunsch"
   ]
  },
  {
   "cell_type": "code",
   "execution_count": null,
   "metadata": {},
   "outputs": [],
   "source": [
    "#Funcion auxiliar calmax\n",
    "#Recibe: coordenadas i,j\n",
    "#devuelve: el maximo y el i',j' de donde vino\n",
    "def calmax(i,j):\n",
    "         #pequeño temita, aca es que la matriz S es diagonal, \n",
    "      # hay que tomar el maximo...en j, es decir j>i \n",
    "    f1 = F[i-1][j-1] + S[codS[str(X[j])]][codS[str(Y[i])]]\n",
    "    maxN = max(F\n"
   ]
  },
  {
   "cell_type": "code",
   "execution_count": 58,
   "metadata": {},
   "outputs": [],
   "source": [
    "#Dadas dos secuencias de largos n y m, creo F(n+1,m+1)\\\n",
    "n = len(X)\n",
    "m = len(Y)\n",
    "F = np.zeros((m +1,n+1)).astype(int)\n",
    "\n",
    "#Inicializo los bordes de F basandome en los indel para cada letra\n",
    "#incializo en X\n",
    "F[0][0] = 0\n",
    "for i in range(1,n+1):\n",
    "     F[0][i] = F[0][i-1] +  S[codS[str(X[i-1])]][codS['-']]\n",
    "\n",
    "#incializo en Y\n",
    "for i in range(1,m+1):\n",
    "     F[i][0] = F[i-1][0] +  S[codS[str(Y[i-1])]][codS['-']]\n",
    "        \n",
    "#Forward propagation\n",
    "for i in range(1,n+1):\n",
    "    for j in range(1,m+1):\n",
    "        "
   ]
  },
  {
   "cell_type": "code",
   "execution_count": 59,
   "metadata": {},
   "outputs": [
    {
     "data": {
      "text/plain": [
       "array([[ 0, -1, -2, -3, -4, -5, -6],\n",
       "       [-1,  0,  0,  0,  0,  0,  0],\n",
       "       [-2,  0,  0,  0,  0,  0,  0],\n",
       "       [-3,  0,  0,  0,  0,  0,  0],\n",
       "       [-4,  0,  0,  0,  0,  0,  0],\n",
       "       [-5,  0,  0,  0,  0,  0,  0],\n",
       "       [-6,  0,  0,  0,  0,  0,  0],\n",
       "       [-7,  0,  0,  0,  0,  0,  0]])"
      ]
     },
     "execution_count": 59,
     "metadata": {},
     "output_type": "execute_result"
    }
   ],
   "source": [
    "F"
   ]
  },
  {
   "cell_type": "code",
   "execution_count": 60,
   "metadata": {},
   "outputs": [
    {
     "name": "stdout",
     "output_type": "stream",
     "text": [
      "T\n",
      "16\n"
     ]
    },
    {
     "data": {
      "text/plain": [
       "-1.0"
      ]
     },
     "execution_count": 60,
     "metadata": {},
     "output_type": "execute_result"
    }
   ],
   "source": [
    "print(X[1])\n",
    "print(codS[str(X[1])])\n",
    "S[codS[str(X[1])]][codS['-']]"
   ]
  },
  {
   "cell_type": "code",
   "execution_count": null,
   "metadata": {},
   "outputs": [],
   "source": []
  }
 ],
 "metadata": {
  "kernelspec": {
   "display_name": "Python 3",
   "language": "python",
   "name": "python3"
  },
  "language_info": {
   "codemirror_mode": {
    "name": "ipython",
    "version": 3
   },
   "file_extension": ".py",
   "mimetype": "text/x-python",
   "name": "python",
   "nbconvert_exporter": "python",
   "pygments_lexer": "ipython3",
   "version": "3.8.3"
  }
 },
 "nbformat": 4,
 "nbformat_minor": 4
}
